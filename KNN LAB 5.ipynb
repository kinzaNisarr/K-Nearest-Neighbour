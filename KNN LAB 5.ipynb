{
 "cells": [
  {
   "cell_type": "code",
   "execution_count": 19,
   "id": "0fd5796d",
   "metadata": {},
   "outputs": [],
   "source": [
    "# do not show warnings\n",
    "import warnings\n",
    "warnings.filterwarnings('ignore')"
   ]
  },
  {
   "cell_type": "code",
   "execution_count": 20,
   "id": "9e326a41",
   "metadata": {},
   "outputs": [
    {
     "name": "stdout",
     "output_type": "stream",
     "text": [
      "[[ 18   1   2   0]\n",
      " [  3   1   2   0]\n",
      " [  4   1 167   0]\n",
      " [  0   0   1   0]]\n",
      "              precision    recall  f1-score   support\n",
      "\n",
      "           N       0.72      0.86      0.78        21\n",
      "           P       0.33      0.17      0.22         6\n",
      "           Y       0.97      0.97      0.97       172\n",
      "          Y        0.00      0.00      0.00         1\n",
      "\n",
      "    accuracy                           0.93       200\n",
      "   macro avg       0.51      0.50      0.49       200\n",
      "weighted avg       0.92      0.93      0.92       200\n",
      "\n"
     ]
    }
   ],
   "source": [
    "import pandas as pd\n",
    "from sklearn.model_selection import train_test_split\n",
    "from sklearn.neighbors import KNeighborsClassifier\n",
    "from sklearn.preprocessing import LabelEncoder, StandardScaler\n",
    "from sklearn.metrics import classification_report, confusion_matrix\n",
    "\n",
    "# Load the dataset\n",
    "data = pd.read_csv('Diabetes_Dataset.csv')  # Replace with your file path\n",
    "\n",
    "# Data preprocessing\n",
    "label_encoder = LabelEncoder()\n",
    "data['Gender'] = label_encoder.fit_transform(data['Gender'])  # Convert gender to numerical\n",
    "features = data.drop(['ID', 'No_Pation', 'CLASS'], axis=1)  # Drop non-feature columns\n",
    "target = data['CLASS']  # Target variable\n",
    "\n",
    "# Feature scaling\n",
    "scaler = StandardScaler()\n",
    "features_scaled = scaler.fit_transform(features)\n",
    "\n",
    "# Data splitting\n",
    "X_train, X_test, y_train, y_test = train_test_split(features_scaled, target, test_size=0.2, random_state=42)\n",
    "\n",
    "# kNN model with k=5\n",
    "knn = KNeighborsClassifier(n_neighbors=11)\n",
    "knn.fit(X_train, y_train)\n",
    "\n",
    "# Model evaluation\n",
    "predictions = knn.predict(X_test)\n",
    "print(confusion_matrix(y_test, predictions))\n",
    "print(classification_report(y_test, predictions))"
   ]
  },
  {
   "cell_type": "code",
   "execution_count": null,
   "id": "19d66e6a",
   "metadata": {},
   "outputs": [],
   "source": []
  }
 ],
 "metadata": {
  "kernelspec": {
   "display_name": "Python 3 (ipykernel)",
   "language": "python",
   "name": "python3"
  },
  "language_info": {
   "codemirror_mode": {
    "name": "ipython",
    "version": 3
   },
   "file_extension": ".py",
   "mimetype": "text/x-python",
   "name": "python",
   "nbconvert_exporter": "python",
   "pygments_lexer": "ipython3",
   "version": "3.10.6"
  }
 },
 "nbformat": 4,
 "nbformat_minor": 5
}
